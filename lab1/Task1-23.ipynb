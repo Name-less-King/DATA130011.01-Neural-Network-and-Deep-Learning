{
 "cells": [
  {
   "cell_type": "markdown",
   "metadata": {
    "papermill": {
     "duration": 0.040391,
     "end_time": "2021-04-01T05:29:05.584896",
     "exception": false,
     "start_time": "2021-04-01T05:29:05.544505",
     "status": "completed"
    },
    "tags": []
   },
   "source": [
    "# Lab 1  \r\n"
   ]
  },
  {
   "cell_type": "markdown",
   "metadata": {
    "papermill": {
     "duration": 0.037764,
     "end_time": "2021-04-01T05:29:05.660134",
     "exception": false,
     "start_time": "2021-04-01T05:29:05.622370",
     "status": "completed"
    },
    "tags": []
   },
   "source": [
    "导入的包都写在前面。"
   ]
  },
  {
   "cell_type": "code",
   "execution_count": 1,
   "metadata": {
    "execution": {
     "iopub.execute_input": "2021-04-01T05:29:05.742425Z",
     "iopub.status.busy": "2021-04-01T05:29:05.741772Z",
     "iopub.status.idle": "2021-04-01T05:29:07.035661Z",
     "shell.execute_reply": "2021-04-01T05:29:07.036160Z"
    },
    "papermill": {
     "duration": 1.338172,
     "end_time": "2021-04-01T05:29:07.036485",
     "exception": false,
     "start_time": "2021-04-01T05:29:05.698313",
     "status": "completed"
    },
    "tags": []
   },
   "outputs": [],
   "source": [
    "import re\n",
    "import math\n",
    "import numpy as np\n",
    "import torch\n",
    "from torch.utils.data import DataLoader\n",
    "import torchvision.transforms as transforms\n",
    "import pickle\n",
    "import time\n",
    "from IPython.display import Latex\n",
    "from matplotlib import pyplot as plt"
   ]
  },
  {
   "cell_type": "markdown",
   "metadata": {
    "papermill": {
     "duration": 0.037746,
     "end_time": "2021-04-01T05:29:07.112672",
     "exception": false,
     "start_time": "2021-04-01T05:29:07.074926",
     "status": "completed"
    },
    "tags": []
   },
   "source": [
    "# 1. Write a Python function that takes a list and returns a new list with unique elements of the first list."
   ]
  },
  {
   "cell_type": "code",
   "execution_count": 2,
   "metadata": {
    "execution": {
     "iopub.execute_input": "2021-04-01T05:29:07.191234Z",
     "iopub.status.busy": "2021-04-01T05:29:07.190568Z",
     "iopub.status.idle": "2021-04-01T05:29:07.199251Z",
     "shell.execute_reply": "2021-04-01T05:29:07.200148Z"
    },
    "papermill": {
     "duration": 0.050198,
     "end_time": "2021-04-01T05:29:07.200353",
     "exception": false,
     "start_time": "2021-04-01T05:29:07.150155",
     "status": "completed"
    },
    "tags": []
   },
   "outputs": [
    {
     "name": "stdout",
     "output_type": "stream",
     "text": [
      "output:\t [1, 2, 3, 4, 5]\n"
     ]
    }
   ],
   "source": [
    "def unique(list):\n",
    "    ret = []\n",
    "    for x in list:\n",
    "        flag = False\n",
    "        for y in ret:\n",
    "            if x == y:   \n",
    "                flag = True \n",
    "        if not flag: ret.append(x)\n",
    "    return  ret\n",
    "\n",
    "# test my function\n",
    "test_list = [1, 2, 3, 3, 3, 3, 4, 5]\n",
    "print(\"output:\\t\", unique(test_list))  "
   ]
  },
  {
   "cell_type": "markdown",
   "metadata": {
    "papermill": {
     "duration": 0.037677,
     "end_time": "2021-04-01T05:29:07.276638",
     "exception": false,
     "start_time": "2021-04-01T05:29:07.238961",
     "status": "completed"
    },
    "tags": []
   },
   "source": [
    "# 2. Write a Python function that checks whether a passed string is palindrome or not. \n",
    "A palindrome is a word, phrase, or sequence that reads the same backward as forward. For example, both “madam” and “nurses run”\n",
    "are palindromes."
   ]
  },
  {
   "cell_type": "code",
   "execution_count": 3,
   "metadata": {
    "execution": {
     "iopub.execute_input": "2021-04-01T05:29:07.359837Z",
     "iopub.status.busy": "2021-04-01T05:29:07.358999Z",
     "iopub.status.idle": "2021-04-01T05:29:07.368099Z",
     "shell.execute_reply": "2021-04-01T05:29:07.367333Z"
    },
    "papermill": {
     "duration": 0.053014,
     "end_time": "2021-04-01T05:29:07.368299",
     "exception": false,
     "start_time": "2021-04-01T05:29:07.315285",
     "status": "completed"
    },
    "tags": []
   },
   "outputs": [
    {
     "name": "stdout",
     "output_type": "stream",
     "text": [
      "True\n",
      "True\n",
      "False\n"
     ]
    }
   ],
   "source": [
    "def palindrome(str):\n",
    "    str = str.replace(' ','')       # remove space first\n",
    "    i = 0                        \n",
    "    j = len(str)-1                  \n",
    "    while i<j and str[i]==str[j]:\n",
    "        i += 1\n",
    "        j -= 1\n",
    "    if i>=j: return True\n",
    "    return False\n",
    "\n",
    "# test my function\n",
    "test1 = \"madam\"\n",
    "test2 = \"nurses run\"\n",
    "test3 = \"wrong answer!\"\n",
    "print(palindrome(test1))\n",
    "print(palindrome(test2))\n",
    "print(palindrome(test3))"
   ]
  },
  {
   "cell_type": "markdown",
   "metadata": {
    "papermill": {
     "duration": 0.038213,
     "end_time": "2021-04-01T05:29:07.445436",
     "exception": false,
     "start_time": "2021-04-01T05:29:07.407223",
     "status": "completed"
    },
    "tags": []
   },
   "source": [
    "# 3. Write a NumPy program to find the real and imaginary parts of an array of complex numbers."
   ]
  },
  {
   "cell_type": "code",
   "execution_count": 4,
   "metadata": {
    "execution": {
     "iopub.execute_input": "2021-04-01T05:29:07.529712Z",
     "iopub.status.busy": "2021-04-01T05:29:07.529015Z",
     "iopub.status.idle": "2021-04-01T05:29:07.531744Z",
     "shell.execute_reply": "2021-04-01T05:29:07.532351Z"
    },
    "papermill": {
     "duration": 0.048139,
     "end_time": "2021-04-01T05:29:07.532667",
     "exception": false,
     "start_time": "2021-04-01T05:29:07.484528",
     "status": "completed"
    },
    "tags": []
   },
   "outputs": [
    {
     "name": "stdout",
     "output_type": "stream",
     "text": [
      "[[1.0, 0.0], [0.70710678, 0.70710678]]\n"
     ]
    }
   ],
   "source": [
    "x = np.array([ 1.00000000+0.j, 0.70710678+0.70710678j])\n",
    "real = np.real(x)       # extract real part\n",
    "imag = np.imag(x)       # extract imaginary part\n",
    "ret = [ [real[i],imag[i]] for i in range(len(x)) ]\n",
    "print(ret)"
   ]
  },
  {
   "cell_type": "markdown",
   "metadata": {
    "papermill": {
     "duration": 0.038635,
     "end_time": "2021-04-01T05:29:07.610493",
     "exception": false,
     "start_time": "2021-04-01T05:29:07.571858",
     "status": "completed"
    },
    "tags": []
   },
   "source": [
    "# 4. Write a Python program to add two binary numbers.\n",
    "\n",
    "简要说一下思路，先把输入的两个字符串补齐，之后使用位运算的思想进行加法运算，并考虑进位问题，最后输出是因为最后一个进位没有被存在ret里，需要额外注意。"
   ]
  },
  {
   "cell_type": "code",
   "execution_count": 5,
   "metadata": {
    "execution": {
     "iopub.execute_input": "2021-04-01T05:29:07.698001Z",
     "iopub.status.busy": "2021-04-01T05:29:07.691931Z",
     "iopub.status.idle": "2021-04-01T05:29:07.707246Z",
     "shell.execute_reply": "2021-04-01T05:29:07.706572Z"
    },
    "papermill": {
     "duration": 0.057931,
     "end_time": "2021-04-01T05:29:07.707406",
     "exception": false,
     "start_time": "2021-04-01T05:29:07.649475",
     "status": "completed"
    },
    "tags": []
   },
   "outputs": [
    {
     "name": "stdout",
     "output_type": "stream",
     "text": [
      "output1:  100\n",
      "output2:  0\n",
      "output3:  1010111\n"
     ]
    }
   ],
   "source": [
    "def add_Binary(num):\n",
    "    ret = ''\n",
    "    carry = '0' \n",
    "    a = num[0]\n",
    "    b = num[1]   \n",
    "    len_a = len(a)\n",
    "    len_b = len(b)\n",
    "    if len_a > len_b:  # fill the gap between a and b with '0'\n",
    "        b = '0'*(len_a-len_b) + b\n",
    "    else:\n",
    "        a = '0'*(len_b-len_a) + a\n",
    "    for i in range(len(a)-1, -1, -1):\n",
    "        if (carry == '1')^(a[i] == '1')^(b[i] == '1'): \n",
    "            ret = '1' + ret\n",
    "            if not (carry == a[i] == b[i] == '1'):\n",
    "                carry = '0'\n",
    "        else: \n",
    "            ret = '0' + ret\n",
    "            if not (carry == a[i] == b[i] == '0'):\n",
    "                carry = '1'\n",
    "    return ret if carry == '0' else '1' + ret  \n",
    "    \n",
    "\n",
    "# test my function\n",
    "num1 = ('11','1')\n",
    "num2 = ('0','0')\n",
    "num3 = ('0','1010111')\n",
    "print(\"output1: \", add_Binary(num1))\n",
    "print(\"output2: \", add_Binary(num2))\n",
    "print(\"output3: \", add_Binary(num3))"
   ]
  },
  {
   "cell_type": "markdown",
   "metadata": {
    "papermill": {
     "duration": 0.039145,
     "end_time": "2021-04-01T05:29:07.786327",
     "exception": false,
     "start_time": "2021-04-01T05:29:07.747182",
     "status": "completed"
    },
    "tags": []
   },
   "source": [
    "# 5. You are given two non-empty linked lists representing two non-negative integers. \n",
    "The digits are stored in reverse order and each of their nodes contain a single digit. Add the two numbers and return it as a linked\n",
    "list. You may assume the two numbers do not contain any leading zero, except the number 0 itself."
   ]
  },
  {
   "cell_type": "code",
   "execution_count": 6,
   "metadata": {
    "execution": {
     "iopub.execute_input": "2021-04-01T05:29:07.871089Z",
     "iopub.status.busy": "2021-04-01T05:29:07.870051Z",
     "iopub.status.idle": "2021-04-01T05:29:07.886206Z",
     "shell.execute_reply": "2021-04-01T05:29:07.885429Z"
    },
    "papermill": {
     "duration": 0.060602,
     "end_time": "2021-04-01T05:29:07.886409",
     "exception": false,
     "start_time": "2021-04-01T05:29:07.825807",
     "status": "completed"
    },
    "tags": []
   },
   "outputs": [
    {
     "name": "stdout",
     "output_type": "stream",
     "text": [
      "7 -> 0 -> 8\n"
     ]
    }
   ],
   "source": [
    "# Definition for singly-linked list.\n",
    "class ListNode:\n",
    "    def __init__(self, x):\n",
    "        self.val = x\n",
    "        self.next = None\n",
    "\n",
    "def trans(lst):\n",
    "    lst.reverse()\n",
    "    current = ListNode(lst[0])\n",
    "    for i in range(1,len(lst)):\n",
    "        tmp = ListNode(lst[i])\n",
    "        tmp.next = current\n",
    "        current = tmp\n",
    "    return current\n",
    "\n",
    "def read(input_str):\n",
    "    input_str = input_str.split('+',1)\n",
    "    l1 = re.findall(\"[0-9]\", input_str[0])\n",
    "    l2 = re.findall(\"[0-9]\", input_str[1])\n",
    "    l1 = trans([int(each) for each in l1])     \n",
    "    l2 = trans([int(each) for each in l2])     \n",
    "    return l1,l2\n",
    "\n",
    "def showlist(lst):\n",
    "    tmp = []\n",
    "    while lst!=None:\n",
    "        tmp.append(str(lst.val))\n",
    "        lst = lst.next\n",
    "    print(\" -> \".join(tmp))\n",
    "\n",
    "def addTwoNumbers(l1,l2):\n",
    "    root = ListNode(0)\n",
    "    current = root\n",
    "    carry = 0\n",
    "    while l1 or l2:\n",
    "        v1 = v2 = 0\n",
    "        if l1:\n",
    "            v1 = l1.val\n",
    "            l1 = l1.next\n",
    "        if l2:\n",
    "            v2 = l2.val\n",
    "            l2 = l2.next\n",
    "        val = v1 + v2 + carry\n",
    "        carry = val // 10\n",
    "        val = val % 10\n",
    "        tmp = ListNode(val)\n",
    "        current.next = tmp\n",
    "        current = current.next\n",
    "    if carry:\n",
    "        tmp = ListNode(carry)\n",
    "        current.next = tmp\n",
    "    return root.next\n",
    "\n",
    "# test my function\n",
    "input_str = \"(2 -> 4 -> 3) + (5 -> 6 -> 4)\"\n",
    "l1, l2 = read(input_str)     \n",
    "l3 = addTwoNumbers(l1,l2)\n",
    "\n",
    "showlist(l3)        \n"
   ]
  },
  {
   "cell_type": "markdown",
   "metadata": {
    "papermill": {
     "duration": 0.039513,
     "end_time": "2021-04-01T05:29:07.967271",
     "exception": false,
     "start_time": "2021-04-01T05:29:07.927758",
     "status": "completed"
    },
    "tags": []
   },
   "source": [
    "# 6. Implement quick sort  \n",
    "Reference : Introduction to Algorithm"
   ]
  },
  {
   "cell_type": "code",
   "execution_count": 7,
   "metadata": {
    "execution": {
     "iopub.execute_input": "2021-04-01T05:29:08.052904Z",
     "iopub.status.busy": "2021-04-01T05:29:08.051984Z",
     "iopub.status.idle": "2021-04-01T05:29:08.061908Z",
     "shell.execute_reply": "2021-04-01T05:29:08.062348Z"
    },
    "papermill": {
     "duration": 0.054877,
     "end_time": "2021-04-01T05:29:08.062523",
     "exception": false,
     "start_time": "2021-04-01T05:29:08.007646",
     "status": "completed"
    },
    "tags": []
   },
   "outputs": [
    {
     "name": "stdout",
     "output_type": "stream",
     "text": [
      "Output:  [-5, -1, 1, 1, 2, 4, 6, 7, 8, 32, 167, 235]\n"
     ]
    }
   ],
   "source": [
    "def quick_sort(array,l,r):\n",
    "    if l < r:\n",
    "        q = partition(array, l, r)\n",
    "        quick_sort(array, l, q - 1)\n",
    "        quick_sort(array, q + 1, r)\n",
    "    return array\n",
    " \n",
    "def partition(array, l, r):\n",
    "    x = array[r]\n",
    "    i = l - 1\n",
    "    for j in range(l, r):\n",
    "        if array[j] <= x:\n",
    "            i += 1\n",
    "            array[i], array[j] = array[j], array[i]\n",
    "    array[i + 1], array[r] = array[r], array[i+1]\n",
    "    return i + 1\n",
    "\n",
    "# test my function\n",
    "test = [1,-5,4,1,6,235,167,-1,32,2,7,8]\n",
    "print(\"Output: \",quick_sort(test,0,len(test)-1))"
   ]
  },
  {
   "cell_type": "markdown",
   "metadata": {
    "papermill": {
     "duration": 0.041018,
     "end_time": "2021-04-01T05:29:08.144653",
     "exception": false,
     "start_time": "2021-04-01T05:29:08.103635",
     "status": "completed"
    },
    "tags": []
   },
   "source": [
    "# 7. Implement shell sort"
   ]
  },
  {
   "cell_type": "code",
   "execution_count": 8,
   "metadata": {
    "execution": {
     "iopub.execute_input": "2021-04-01T05:29:08.236671Z",
     "iopub.status.busy": "2021-04-01T05:29:08.235968Z",
     "iopub.status.idle": "2021-04-01T05:29:08.239538Z",
     "shell.execute_reply": "2021-04-01T05:29:08.238939Z"
    },
    "papermill": {
     "duration": 0.053724,
     "end_time": "2021-04-01T05:29:08.239693",
     "exception": false,
     "start_time": "2021-04-01T05:29:08.185969",
     "status": "completed"
    },
    "tags": []
   },
   "outputs": [
    {
     "name": "stdout",
     "output_type": "stream",
     "text": [
      "Output:  [-5, -1, 1, 1, 2, 4, 6, 7, 8, 32, 167, 235]\n"
     ]
    }
   ],
   "source": [
    "def insert_sort(array, start, gap):   \n",
    "    for i in range(1,(len(array)-start)//gap):    \n",
    "        pos = start+gap*i\n",
    "        while pos>start and array[pos]<array[pos-gap]:\n",
    "            array[pos], array[pos-gap] = array[pos-gap], array[pos]\n",
    "            pos -= gap\n",
    "\n",
    "def shell_sort(array):\n",
    "    gap = len(array)//2   \n",
    "    while gap>0:\n",
    "        for i in range(0,gap):\n",
    "            insert_sort(array, i, gap)\n",
    "        gap = gap//2     \n",
    "    return array\n",
    "\n",
    "# test my function\n",
    "test = [1,-5,4,1,6,235,167,-1,32,2,7,8]\n",
    "print(\"Output: \",shell_sort(test))"
   ]
  },
  {
   "cell_type": "markdown",
   "metadata": {
    "papermill": {
     "duration": 0.040343,
     "end_time": "2021-04-01T05:29:08.321485",
     "exception": false,
     "start_time": "2021-04-01T05:29:08.281142",
     "status": "completed"
    },
    "tags": []
   },
   "source": [
    "# 8. Implement linear regression model and use autograd to optimize it by Pytorch.  \n",
    "A linear function is defined as $f(x) = w^T x + b$, \n",
    "where $w^T = [w_1,w_2,...,w_k]$.\n",
    "\n",
    "Given parameters $w$ and $b$ of linear function $f(x)$, \n",
    "add some noise to create data near the linear function.\n",
    "\n",
    "The loss function is usually defined as $\\frac{1}{n} \\sum_{i=1}^{n} (f(x^{(i)})-y^{(i)})^2$   \n",
    "And that is the MSELoss.\n"
   ]
  },
  {
   "cell_type": "code",
   "execution_count": 9,
   "metadata": {
    "execution": {
     "iopub.execute_input": "2021-04-01T05:29:08.418140Z",
     "iopub.status.busy": "2021-04-01T05:29:08.417466Z",
     "iopub.status.idle": "2021-04-01T05:29:09.020829Z",
     "shell.execute_reply": "2021-04-01T05:29:09.020213Z"
    },
    "papermill": {
     "duration": 0.657981,
     "end_time": "2021-04-01T05:29:09.020985",
     "exception": false,
     "start_time": "2021-04-01T05:29:08.363004",
     "status": "completed"
    },
    "tags": []
   },
   "outputs": [
    {
     "name": "stdout",
     "output_type": "stream",
     "text": [
      "epoch = 0 \t loss =  39422.92578125\n",
      "epoch = 100 \t loss =  200.6153106689453\n",
      "epoch = 200 \t loss =  137.56419372558594\n",
      "epoch = 300 \t loss =  95.19458770751953\n",
      "epoch = 400 \t loss =  66.72260284423828\n",
      "epoch = 500 \t loss =  47.58984375\n",
      "epoch = 600 \t loss =  34.73270034790039\n",
      "epoch = 700 \t loss =  26.09292221069336\n",
      "epoch = 800 \t loss =  20.28707504272461\n",
      "epoch = 900 \t loss =  16.385610580444336\n",
      "w =  2.0671918392181396\n",
      "b =  3.030674695968628\n"
     ]
    },
    {
     "data": {
      "image/png": "[encoded data removed]",
      "text/plain": [
       "<Figure size 432x288 with 1 Axes>"
      ]
     },
     "metadata": {
      "needs_background": "light"
     },
     "output_type": "display_data"
    }
   ],
   "source": [
    "\n",
    "def create_data(w,b):\n",
    "    x = torch.linspace(0,10,100).unsqueeze(dim=1)\n",
    "    y = w*x + b + torch.rand(x.shape)\n",
    "    return x,y\n",
    "\n",
    "    \n",
    "class LinearModel(torch.nn.Module):\n",
    "    def __init__(self):\n",
    "        super(LinearModel,self).__init__()\n",
    "        self.linear = torch.nn.Linear(1,1)\n",
    "        \n",
    "    def forward(self,x):\n",
    "        y_pred = self.linear(x)\n",
    "        return y_pred\n",
    "\n",
    "model = LinearModel()\n",
    "\n",
    "criterion = torch.nn.MSELoss(reduction = 'sum')\n",
    "optimizer = torch.optim.SGD(model.parameters(),lr = 0.00004)\n",
    "\n",
    "my_w = 2\n",
    "my_b = 3\n",
    "x, y = create_data(my_w,my_b) \n",
    "\n",
    "for epoch in range(1000):\n",
    "    y_pred = model(x)\n",
    "    loss = criterion(y_pred,y)\n",
    "    if epoch%100 == 0:\n",
    "        print(\"epoch =\",epoch,\"\\t loss = \",loss.item())\n",
    "    \n",
    "    optimizer.zero_grad()\n",
    "    loss.backward()\n",
    "    optimizer.step()\n",
    "\n",
    "print('w = ',model.linear.weight.item())\n",
    "print('b = ',model.linear.bias.item())\n",
    "        \n",
    "plt.scatter(x,y)\n",
    "yy = x*model.linear.weight.item()+model.linear.bias.item()\n",
    "plt.plot(x,yy,c='red')\n",
    "plt.show()"
   ]
  },
  {
   "cell_type": "markdown",
   "metadata": {
    "papermill": {
     "duration": 0.042568,
     "end_time": "2021-04-01T05:29:09.106721",
     "exception": false,
     "start_time": "2021-04-01T05:29:09.064153",
     "status": "completed"
    },
    "tags": []
   },
   "source": [
    "We can see that the parameter after training is closed to $[2,3]$."
   ]
  },
  {
   "cell_type": "markdown",
   "metadata": {
    "papermill": {
     "duration": 0.041947,
     "end_time": "2021-04-01T05:29:09.191068",
     "exception": false,
     "start_time": "2021-04-01T05:29:09.149121",
     "status": "completed"
    },
    "tags": []
   },
   "source": [
    "# 9. Implement logistic regression model and use autograd to optimize it by Pytorch.  \n",
    "\n",
    "We create data according to the principle below:  \n",
    "if $\\sigma ( x^{(i)})>0.5$ then $y^{(i)}=1$  else $y^{(i)}=0$\n",
    "\n",
    "Denote\n",
    " $X = \\begin{bmatrix}\n",
    "      x^{(1)}_1       & \\cdots    & x^{(1)}_k      \\\\\n",
    "      \\vdots          & \\ddots    & \\vdots         \\\\\n",
    "      x^{(n)}_1       & \\cdots    & x^{(n)}_k  \n",
    "      \\end{bmatrix}$, \n",
    " $Y=[y^{(1)}, y^{(2)}, ..., y^{(n)}]^T$.\n",
    " \n",
    "In logistic regression, we want to maximize the likelihood, i.e.,\n",
    "$max_{\\theta} \\prod_{Y^{(i)}=1} \\frac{e^{\\theta^T x^{(i)}  }}{1+e^{\\theta^Tx^{(i)} }}\n",
    "\\prod_{Y^{(i)}=0} \\frac{1}{1+e^{\\theta ^T x^{(i)} }}$. \n",
    "Equivalently, we can take log-transformation, i.e.,\n",
    "$\\sum_{i=1}^{n}-y^{(i)}log(\\sigma(x^{(i)}))-(1-y^{(i)} )log(1-\\sigma(x^{(i)}))$  \n",
    "That is called BCELoss.\n"
   ]
  },
  {
   "cell_type": "code",
   "execution_count": 10,
   "metadata": {
    "execution": {
     "iopub.execute_input": "2021-04-01T05:29:09.292723Z",
     "iopub.status.busy": "2021-04-01T05:29:09.292000Z",
     "iopub.status.idle": "2021-04-01T05:29:09.827974Z",
     "shell.execute_reply": "2021-04-01T05:29:09.828952Z"
    },
    "papermill": {
     "duration": 0.595713,
     "end_time": "2021-04-01T05:29:09.829233",
     "exception": false,
     "start_time": "2021-04-01T05:29:09.233520",
     "status": "completed"
    },
    "tags": []
   },
   "outputs": [
    {
     "name": "stdout",
     "output_type": "stream",
     "text": [
      "epoch = 0 \t loss =  350.4832458496094\n",
      "epoch = 100 \t loss =  4.5151567459106445\n",
      "epoch = 200 \t loss =  3.198235034942627\n",
      "epoch = 300 \t loss =  2.692111015319824\n",
      "epoch = 400 \t loss =  2.414580821990967\n",
      "epoch = 500 \t loss =  2.2357711791992188\n",
      "epoch = 600 \t loss =  2.1092476844787598\n",
      "epoch = 700 \t loss =  2.0140316486358643\n",
      "epoch = 800 \t loss =  1.9391738176345825\n",
      "epoch = 900 \t loss =  1.8783706426620483\n"
     ]
    },
    {
     "data": {
      "image/png": "[encoded data removed]",
      "text/plain": [
       "<Figure size 432x288 with 1 Axes>"
      ]
     },
     "metadata": {
      "needs_background": "light"
     },
     "output_type": "display_data"
    }
   ],
   "source": [
    "def create_data():\n",
    "    n_data = torch.ones(100, 2)\n",
    "    x0 = torch.normal(2 * n_data, 1)  \n",
    "    y0 = torch.zeros(100)\n",
    "    x1 = torch.normal(-2 * n_data, 1)  \n",
    "    y1 = torch.ones(100)\n",
    "\n",
    "    x=torch.cat((x0,x1),0).type(torch.FloatTensor)\n",
    "    y=torch.cat((y0,y1),0).type(torch.FloatTensor).unsqueeze(dim=1)\n",
    "    \n",
    "    return x,y\n",
    "\n",
    "\n",
    "\n",
    "class LogisticRegression(torch.nn.Module):\n",
    "    def __init__(self):\n",
    "        super(LogisticRegression,self).__init__()\n",
    "        self.linear=torch.nn.Linear(2,1)   \n",
    "         \n",
    "\n",
    "    def forward(self, x):\n",
    "        y_pred = torch.sigmoid(self.linear(x))\n",
    "        \n",
    "        return y_pred\n",
    "\n",
    "model=LogisticRegression()\n",
    "\n",
    "criterion = torch.nn.BCELoss(reduction = 'sum')   \n",
    "optimizer = torch.optim.SGD(model.parameters(),lr=1e-3)  \n",
    "\n",
    "x,y = create_data()\n",
    "\n",
    "for epoch in range(1000):\n",
    "    y_pred = model(x)\n",
    "    loss=criterion(y_pred,y)\n",
    "    optimizer.zero_grad()\n",
    "    loss.backward()\n",
    "    optimizer.step()\n",
    "    if  epoch%100==0:\n",
    "         print(\"epoch =\",epoch,\"\\t loss = \",loss.item())\n",
    "       \n",
    "w0,w1=model.linear.weight[0]\n",
    "w0=float(w0.item())\n",
    "w1=float(w1.item())\n",
    "b=float(model.linear.bias.item())\n",
    "plot_x=np.arange(-7,7,0.1)\n",
    "plot_y=(-w0*plot_x-b)/w1\n",
    "plt.scatter(x.data.numpy()[:,0],x.data.numpy()[:,1],c=y.data.numpy(),s=100,lw=0,cmap='RdYlGn')\n",
    "plt.plot(plot_x,plot_y)\n",
    "plt.show()\n"
   ]
  },
  {
   "cell_type": "markdown",
   "metadata": {
    "papermill": {
     "duration": 0.046042,
     "end_time": "2021-04-01T05:29:09.932291",
     "exception": false,
     "start_time": "2021-04-01T05:29:09.886249",
     "status": "completed"
    },
    "tags": []
   },
   "source": [
    "# 10. Implement linear SVM model for binary classification task and use autograd to optimize it by Pytorch.  \n",
    "\n",
    " \n",
    "\n",
    "The hyperplane is defined as $w^T x + b$, which can be written as \n",
    "$W^T x$, denote $w_0 = b$ , then $W=[w_0,w_1,w_2,...,w_k]^T$ and $x=[1,x_1,x_2,...,x_k]^T$.  \n",
    "Denote  \n",
    " $X = \\begin{bmatrix}\n",
    "      1   &x^{(1)}_1       & \\cdots    & x^{(1)}_k      \\\\\n",
    "      1    &\\vdots          & \\ddots    & \\vdots         \\\\\n",
    "      1    & x^{(n)}_1       & \\cdots    & x^{(n)}_k   \n",
    "      \\end{bmatrix}$, \n",
    " $Y=[y^{(1)}, y^{(2)}, ..., y^{(n)}]^T$.\n",
    " \n",
    "The loss function is $\\sum_i max \\{0， 1-Y^{(i)}X^{(i)}W \\}$.  \n",
    "Considering Task 11, I use a simple method to solve Task10."
   ]
  },
  {
   "cell_type": "code",
   "execution_count": 11,
   "metadata": {
    "execution": {
     "iopub.execute_input": "2021-04-01T05:29:10.122924Z",
     "iopub.status.busy": "2021-04-01T05:29:10.122213Z",
     "iopub.status.idle": "2021-04-01T05:29:12.410360Z",
     "shell.execute_reply": "2021-04-01T05:29:12.409698Z"
    },
    "papermill": {
     "duration": 2.432826,
     "end_time": "2021-04-01T05:29:12.410533",
     "exception": false,
     "start_time": "2021-04-01T05:29:09.977707",
     "status": "completed"
    },
    "tags": []
   },
   "outputs": [
    {
     "name": "stdout",
     "output_type": "stream",
     "text": [
      "Loss in iteration 0 \t tensor(376.9164, grad_fn=<SumBackward0>)\n",
      "Loss in iteration 1000 \t tensor(3.9453, grad_fn=<SumBackward0>)\n",
      "Loss in iteration 2000 \t tensor(1.8499, grad_fn=<SumBackward0>)\n",
      "Loss in iteration 3000 \t tensor(1.5609, grad_fn=<SumBackward0>)\n",
      "Loss in iteration 4000 \t tensor(0.6652, grad_fn=<SumBackward0>)\n",
      "Loss in iteration 5000 \t tensor(0.0923, grad_fn=<SumBackward0>)\n",
      "Loss in iteration 6000 \t tensor(0.0681, grad_fn=<SumBackward0>)\n",
      "Parameter after training:\t tensor([[ 0.9882],\n",
      "        [ 0.9940],\n",
      "        [-9.9108]], requires_grad=True)\n"
     ]
    },
    {
     "data": {
      "image/png": "[encoded data removed]",
      "text/plain": [
       "<Figure size 432x288 with 1 Axes>"
      ]
     },
     "metadata": {
      "needs_background": "light"
     },
     "output_type": "display_data"
    }
   ],
   "source": [
    "# manually lable two diffenrent kinds of data\n",
    "def create_data(w,n):\n",
    "    x = np.hstack( (10*np.random.random((n,len(w)-1)),np.ones((n,1))) )\n",
    "    y = []\n",
    "    for i in range(n):\n",
    "        while abs(np.dot(x[i,:],w))<1:\n",
    "            x[i,0:len(w)-1]=10*np.random.random((1,len(w)-1))\n",
    "        if np.dot(x[i,:],w)>0:  y.append(1)\n",
    "        else:   y.append(-1)\n",
    "    return torch.from_numpy(x).float(), torch.from_numpy(np.array(y)).float().reshape(n,1)\n",
    "\n",
    "def plot(x,y,w):\n",
    "        plt.scatter([float(x[i,0]) for i in range(x.shape[0]) if y[i,0]==1 ], \n",
    "                    [float(x[i,1]) for i in range(x.shape[0]) if y[i,0]==1 ], c='red')\n",
    "        plt.scatter([float(x[i,0]) for i in range(x.shape[0]) if y[i,0]==-1 ], \n",
    "                    [float(x[i,1]) for i in range(x.shape[0]) if y[i,0]==-1 ], c='blue')\n",
    "        plt.plot([0,-w[2]/w[1]],[-w[2]/w[0],0])\n",
    "\n",
    "alpha = 1e-3                       \n",
    "my_w = [1,1,-10]                      \n",
    "x, y = create_data(my_w,100)\n",
    "\n",
    "w = torch.ones(len(my_w),1,requires_grad=True)\n",
    "last_loss = 0\n",
    "\n",
    "for i in range(10000):\n",
    "    tmp = torch.cat( ( torch.ones((x.shape[0],1))-y.mul(x.mm(w)), torch.zeros((x.shape[0],1)) ), 1 )\n",
    "    loss = torch.sum(torch.max(tmp,1)[0])                        # loss function for SVM\n",
    "    loss.backward()\n",
    "    w.data.sub_(alpha*w.grad)               \n",
    "    w.grad.zero_()                          \n",
    "    if abs(last_loss - loss)<1e-6: break      \n",
    "    last_loss = loss\n",
    "    if i%1000==0:    print(\"Loss in iteration\", i, \"\\t\", loss)\n",
    "    \n",
    "print(\"Parameter after training:\\t\",w)  \n",
    "plot(x,y,w)\n",
    "    \n"
   ]
  },
  {
   "cell_type": "markdown",
   "metadata": {
    "papermill": {
     "duration": 0.049716,
     "end_time": "2021-04-01T05:29:12.508477",
     "exception": false,
     "start_time": "2021-04-01T05:29:12.458761",
     "status": "completed"
    },
    "tags": []
   },
   "source": [
    " As above,our true line is exactly\n",
    " $y=10-x$. After training, the result is closed to the actual line."
   ]
  },
  {
   "cell_type": "markdown",
   "metadata": {
    "papermill": {
     "duration": 0.047429,
     "end_time": "2021-04-01T05:29:12.605228",
     "exception": false,
     "start_time": "2021-04-01T05:29:12.557799",
     "status": "completed"
    },
    "tags": []
   },
   "source": [
    "# 11.Add a Frobenius norm penalty for the weight w in your SVM model by two different ways:\n",
    "(1) use a pytorch function to calculate the norm; (2) implement the code by yourself.\n",
    "\n"
   ]
  },
  {
   "cell_type": "markdown",
   "metadata": {
    "papermill": {
     "duration": 0.047607,
     "end_time": "2021-04-01T05:29:12.700801",
     "exception": false,
     "start_time": "2021-04-01T05:29:12.653194",
     "status": "completed"
    },
    "tags": []
   },
   "source": [
    "(1)just use the torch.norm(x) function."
   ]
  },
  {
   "cell_type": "code",
   "execution_count": 12,
   "metadata": {
    "execution": {
     "iopub.execute_input": "2021-04-01T05:29:12.811974Z",
     "iopub.status.busy": "2021-04-01T05:29:12.811273Z",
     "iopub.status.idle": "2021-04-01T05:29:17.026715Z",
     "shell.execute_reply": "2021-04-01T05:29:17.026146Z"
    },
    "papermill": {
     "duration": 4.276049,
     "end_time": "2021-04-01T05:29:17.026869",
     "exception": false,
     "start_time": "2021-04-01T05:29:12.750820",
     "status": "completed"
    },
    "tags": []
   },
   "outputs": [
    {
     "name": "stdout",
     "output_type": "stream",
     "text": [
      "Loss in iteration 0 \t tensor(378.3306, grad_fn=<AddBackward0>)\n",
      "Loss in iteration 1000 \t tensor(4.9509, grad_fn=<AddBackward0>)\n",
      "Loss in iteration 2000 \t tensor(3.1767, grad_fn=<AddBackward0>)\n",
      "Loss in iteration 3000 \t tensor(2.4896, grad_fn=<AddBackward0>)\n",
      "Loss in iteration 4000 \t tensor(2.3828, grad_fn=<AddBackward0>)\n",
      "Loss in iteration 5000 \t tensor(1.4794, grad_fn=<AddBackward0>)\n",
      "Loss in iteration 6000 \t tensor(1.5028, grad_fn=<AddBackward0>)\n",
      "Loss in iteration 7000 \t tensor(1.4796, grad_fn=<AddBackward0>)\n",
      "Loss in iteration 8000 \t tensor(1.4785, grad_fn=<AddBackward0>)\n",
      "Loss in iteration 9000 \t tensor(1.4489, grad_fn=<AddBackward0>)\n",
      "Parameter after training:\t tensor([[ 0.9810],\n",
      "        [ 0.9901],\n",
      "        [-9.8128]], requires_grad=True)\n"
     ]
    }
   ],
   "source": [
    "w = torch.ones(len(w),1,requires_grad=True)\n",
    "last_loss = 0\n",
    "for i in range(10000):\n",
    "    tmp = torch.cat( ( torch.ones((x.shape[0],1))-y.mul(x.mm(w)), torch.zeros((x.shape[0],1)) ), 1 )\n",
    "    loss = torch.sum(torch.max(tmp,1)[0])+torch.norm(w[0:-1])   # loss function with F norm\n",
    "    loss.backward()\n",
    "    w.data.sub_(alpha*w.grad)               \n",
    "    w.grad.zero_()      \n",
    "    if abs(last_loss-loss)<1e-6: break  \n",
    "    last_loss = loss\n",
    "    if i%1000==0:    print(\"Loss in iteration\", i, \"\\t\", loss)\n",
    "    \n",
    "print(\"Parameter after training:\\t\",w)  \n"
   ]
  },
  {
   "cell_type": "markdown",
   "metadata": {
    "papermill": {
     "duration": 0.052182,
     "end_time": "2021-04-01T05:29:17.132393",
     "exception": false,
     "start_time": "2021-04-01T05:29:17.080211",
     "status": "completed"
    },
    "tags": []
   },
   "source": [
    "(2)write a function of my own.  \n",
    "Since $w$ is an vector,\n",
    "its Frobenius norm is $||w||_F = \\sqrt{\\sum_{i=1}^{k} w_k^2}$."
   ]
  },
  {
   "cell_type": "code",
   "execution_count": 13,
   "metadata": {
    "execution": {
     "iopub.execute_input": "2021-04-01T05:29:17.245360Z",
     "iopub.status.busy": "2021-04-01T05:29:17.244683Z",
     "iopub.status.idle": "2021-04-01T05:29:21.696152Z",
     "shell.execute_reply": "2021-04-01T05:29:21.696641Z"
    },
    "papermill": {
     "duration": 4.513563,
     "end_time": "2021-04-01T05:29:21.696833",
     "exception": false,
     "start_time": "2021-04-01T05:29:17.183270",
     "status": "completed"
    },
    "tags": []
   },
   "outputs": [
    {
     "name": "stdout",
     "output_type": "stream",
     "text": [
      "Loss in iteration 0 \t tensor(378.3306, grad_fn=<AddBackward0>)\n",
      "Loss in iteration 1000 \t tensor(4.9509, grad_fn=<AddBackward0>)\n",
      "Loss in iteration 2000 \t tensor(3.1767, grad_fn=<AddBackward0>)\n",
      "Loss in iteration 3000 \t tensor(2.4896, grad_fn=<AddBackward0>)\n",
      "Loss in iteration 4000 \t tensor(2.3828, grad_fn=<AddBackward0>)\n",
      "Loss in iteration 5000 \t tensor(1.4794, grad_fn=<AddBackward0>)\n",
      "Loss in iteration 6000 \t tensor(1.5028, grad_fn=<AddBackward0>)\n",
      "Loss in iteration 7000 \t tensor(1.4796, grad_fn=<AddBackward0>)\n",
      "Loss in iteration 8000 \t tensor(1.4785, grad_fn=<AddBackward0>)\n",
      "Loss in iteration 9000 \t tensor(1.4489, grad_fn=<AddBackward0>)\n",
      "Parameter after training:\t tensor([[ 0.9810],\n",
      "        [ 0.9901],\n",
      "        [-9.8128]], requires_grad=True)\n"
     ]
    }
   ],
   "source": [
    "w = torch.ones(len(w),1,requires_grad=True)\n",
    "last_loss = 0\n",
    "for i in range(10000):\n",
    "    tmp = torch.cat( ( torch.ones((x.shape[0],1))-y.mul(x.mm(w)), torch.zeros((x.shape[0],1)) ), 1 )\n",
    "    loss = torch.sum(torch.max(tmp,1)[0]) + torch.sqrt(torch.sum(w[0:-1,0]**2))   # loss function with F norm\n",
    "    loss.backward()\n",
    "    w.data.sub_(alpha*w.grad)               \n",
    "    w.grad.zero_()      \n",
    "    if abs(last_loss-loss)<1e-6: break  \n",
    "    last_loss = loss\n",
    "    if i%1000==0:    print(\"Loss in iteration\", i, \"\\t\", loss)\n",
    "    \n",
    "print(\"Parameter after training:\\t\",w)  \n"
   ]
  },
  {
   "cell_type": "markdown",
   "metadata": {
    "papermill": {
     "duration": 0.05578,
     "end_time": "2021-04-01T05:29:21.807022",
     "exception": false,
     "start_time": "2021-04-01T05:29:21.751242",
     "status": "completed"
    },
    "tags": []
   },
   "source": [
    "When having the same input samples, the results of two different implementation are equal."
   ]
  },
  {
   "cell_type": "markdown",
   "metadata": {
    "papermill": {
     "duration": 0.05577,
     "end_time": "2021-04-01T05:29:21.918057",
     "exception": false,
     "start_time": "2021-04-01T05:29:21.862287",
     "status": "completed"
    },
    "tags": []
   },
   "source": [
    "# 12. Download CIFAR-10 dataset1 and visualize some of its images.\n",
    "(For task 12 to 15)  \n",
    "Reference:https://pytorch.org/tutorials/beginner/blitz/cifar10_tutorial.html#sphx-glr-beginner-blitz-cifar10-tutorial-py    \n",
    "Slides: *Python,Tensorflow and Pytorch for DNN* by Chenjie Cao, Yikai Wang, Yanwei Fu"
   ]
  },
  {
   "cell_type": "code",
   "execution_count": 14,
   "metadata": {
    "execution": {
     "iopub.execute_input": "2021-04-01T05:29:22.037391Z",
     "iopub.status.busy": "2021-04-01T05:29:22.036757Z",
     "iopub.status.idle": "2021-04-01T05:29:23.420872Z",
     "shell.execute_reply": "2021-04-01T05:29:23.420036Z"
    },
    "papermill": {
     "duration": 1.44721,
     "end_time": "2021-04-01T05:29:23.421089",
     "exception": false,
     "start_time": "2021-04-01T05:29:21.973879",
     "status": "completed"
    },
    "tags": []
   },
   "outputs": [
    {
     "data": {
      "image/png": "[encoded data removed]",
      "text/plain": [
       "<Figure size 432x288 with 1 Axes>"
      ]
     },
     "metadata": {
      "needs_background": "light"
     },
     "output_type": "display_data"
    }
   ],
   "source": [
    "def unpickle(file):\n",
    "   with open(file, 'rb') as f:\n",
    "      dict = pickle.load(f, encoding='bytes')\n",
    "   return dict\n",
    "\n",
    "def imshow(img):\n",
    "   img = [ [ [ img[i*32+j],img[1024+i*32+j],img[2048+i*32+j] ] for j in range(32)] for i in range(32)]\n",
    "   plt.imshow(img)\n",
    "   plt.show()\n",
    "\n",
    "# show the first image in batch_1 data\n",
    "data = unpickle('../input/cifar10-python/cifar-10-batches-py/data_batch_1') \n",
    "imshow(data[b'data'][0])\n",
    "   "
   ]
  },
  {
   "cell_type": "markdown",
   "metadata": {
    "papermill": {
     "duration": 0.05482,
     "end_time": "2021-04-01T05:29:23.533324",
     "exception": false,
     "start_time": "2021-04-01T05:29:23.478504",
     "status": "completed"
    },
    "tags": []
   },
   "source": [
    "# 13. Write a dataset class for loading CIFAR-10. Make sure it could be transferred to Pytorch Dataloader. \n",
    "The class should meet the following requirements: (1) Inherit pytorch’s DataSet class; (2) Load the image file and\n",
    "save in proper way; (3) Override __getitem__ and __len__ methods."
   ]
  },
  {
   "cell_type": "code",
   "execution_count": 15,
   "metadata": {
    "execution": {
     "iopub.execute_input": "2021-04-01T05:29:23.654561Z",
     "iopub.status.busy": "2021-04-01T05:29:23.653835Z",
     "iopub.status.idle": "2021-04-01T05:29:23.878686Z",
     "shell.execute_reply": "2021-04-01T05:29:23.878060Z"
    },
    "papermill": {
     "duration": 0.289852,
     "end_time": "2021-04-01T05:29:23.878866",
     "exception": false,
     "start_time": "2021-04-01T05:29:23.589014",
     "status": "completed"
    },
    "tags": []
   },
   "outputs": [
    {
     "name": "stdout",
     "output_type": "stream",
     "text": [
      "6\n",
      "frog\n"
     ]
    },
    {
     "data": {
      "image/png": "[encoded data removed]",
      "text/plain": [
       "<Figure size 432x288 with 1 Axes>"
      ]
     },
     "metadata": {
      "needs_background": "light"
     },
     "output_type": "display_data"
    }
   ],
   "source": [
    "class my_CIFAR10(torch.utils.data.Dataset):\n",
    "    def __init__(self,data,labels):\n",
    "        super(my_CIFAR10,self).__init__()\n",
    "        self.data = data\n",
    "        self.labels = labels\n",
    "        self.transform = transforms.Compose([transforms.ToTensor(),\n",
    "     transforms.Normalize((0.5, 0.5, 0.5), (0.5, 0.5, 0.5))])\n",
    "        \n",
    "    def __getitem__(self, index):\n",
    "        img = self.data[index]\n",
    "        image = torch.tensor(image,dtype = torch.float)\n",
    "        \n",
    "        label = self.labels[index]\n",
    "        label = torch.tensor(label,dtype = torch.long)\n",
    "\n",
    "        return img,label \n",
    "    \n",
    "    # return the number of images\n",
    "    def __len__(self):\n",
    "        return len(self.data)\n",
    "    \n",
    "def unpickle(file):\n",
    "    with open(file,'rb') as f:\n",
    "        return pickle.load(f,encoding = 'latin1')\n",
    "        \n",
    "def read_data(data_dict):\n",
    "    img = np.array(data_dict['data']).reshape(-1,3,32,32)\n",
    "    img = np.transpose(img, (0,2,3,1))\n",
    "    label = np.array(data_dict['labels'])\n",
    "    return img,label\n",
    "\n",
    "data_dict = unpickle(\"../input/cifar10-python/cifar-10-batches-py/data_batch_1\")\n",
    "meta_dict = unpickle(\"../input/cifar10-python/cifar-10-batches-py/batches.meta\")\n",
    "img,label = read_data(data_dict)\n",
    "dataset = my_CIFAR10(img,label)\n",
    "dataLoader = DataLoader(dataset,batch_size = 64,shuffle = True)\n",
    "\n",
    "# test my funcition\n",
    "print(label[0])\n",
    "print(meta_dict['label_names'][label[0]])\n",
    "plt.imshow(img[0])\n",
    "plt.show()"
   ]
  },
  {
   "cell_type": "markdown",
   "metadata": {
    "papermill": {
     "duration": 0.059025,
     "end_time": "2021-04-01T05:29:23.995159",
     "exception": false,
     "start_time": "2021-04-01T05:29:23.936134",
     "status": "completed"
    },
    "tags": []
   },
   "source": [
    "From the test above, we can see that myCIFAR10 can load the correct image and save it in proper way.   \n",
    "Because   \n",
    "1.we open the same picture as task 12.  \n",
    "2.we can get the right label index 6 and find the label name frog. "
   ]
  },
  {
   "cell_type": "markdown",
   "metadata": {
    "papermill": {
     "duration": 0.056191,
     "end_time": "2021-04-01T05:29:24.109367",
     "exception": false,
     "start_time": "2021-04-01T05:29:24.053176",
     "status": "completed"
    },
    "tags": []
   },
   "source": [
    "# 14. Run one epoch for loading CIFAR-10 with Pytorch Dataloader and test the loading time of different batch_size\n",
    "(1, 4, 64, 1024), different num_workers (0,1,4,16), and whether use pin_memory or not."
   ]
  },
  {
   "cell_type": "code",
   "execution_count": 16,
   "metadata": {
    "execution": {
     "iopub.execute_input": "2021-04-01T05:29:24.236877Z",
     "iopub.status.busy": "2021-04-01T05:29:24.235757Z",
     "iopub.status.idle": "2021-04-01T05:29:27.061777Z",
     "shell.execute_reply": "2021-04-01T05:29:27.060766Z"
    },
    "papermill": {
     "duration": 2.895984,
     "end_time": "2021-04-01T05:29:27.061997",
     "exception": false,
     "start_time": "2021-04-01T05:29:24.166013",
     "status": "completed"
    },
    "tags": []
   },
   "outputs": [
    {
     "name": "stdout",
     "output_type": "stream",
     "text": [
      "Time cost of batch size\t 1 \t:\t 0.000088 s\n",
      "Time cost of batch size\t 4 \t:\t 0.000029 s\n",
      "Time cost of batch size\t 64 \t:\t 0.000024 s\n",
      "Time cost of batch size\t 1024 \t:\t 0.000023 s\n",
      "Time cost of workers\t 0 \t:\t 0.000028 s\n",
      "Time cost of workers\t 1 \t:\t 0.000030 s\n",
      "Time cost of workers\t 4 \t:\t 0.000066 s\n",
      "Time cost of workers\t 16 \t:\t 0.000032 s\n",
      "Time cost of pin_memory\t True \t:\t 0.000032 s\n",
      "Time cost of pin_memory\t False \t:\t 0.000024 s\n"
     ]
    }
   ],
   "source": [
    "# use encoding of 'bytes' may solve this task more easily\n",
    "def unpickle(file):\n",
    "   with open(file, 'rb') as f:\n",
    "      dict = pickle.load(f, encoding = 'bytes')\n",
    "   return dict\n",
    "\n",
    "data = []\n",
    "\n",
    "# run one epoch\n",
    "for i in range(1,6):\n",
    "    tmp = unpickle(\"../input/cifar10-python/cifar-10-batches-py/data_batch_\"+str(i))\n",
    "    data.extend(tmp[b'data'].astype('int64'))\n",
    "\n",
    "for batch_size_ in [1, 4, 64, 1024]:\n",
    "    start_time = time.time()\n",
    "    dataloader = DataLoader(data,batch_size = batch_size_ ,shuffle = True)\n",
    "    end_time = time.time()\n",
    "    print( \"Time cost of batch size\\t\",batch_size_,\"\\t:\\t %f s\"%(end_time - start_time))\n",
    "    \n",
    "for num_workers_ in [0,1,4,16]:\n",
    "    start_time = time.time()\n",
    "    dataloader = DataLoader(data, batch_size = 4, shuffle = True, num_workers=num_workers_)\n",
    "    end_time = time.time()\n",
    "    print( \"Time cost of workers\\t\",num_workers_,\"\\t:\\t %f s\"%(end_time-start_time))\n",
    "    \n",
    "for pin_memory_ in [True, False]:\n",
    "    start_time = time.time()\n",
    "    dataloader = DataLoader(data, batch_size = 4, shuffle = True, pin_memory = pin_memory_)\n",
    "    end_time = time.time()\n",
    "    print( \"Time cost of pin_memory\\t\",pin_memory_,\"\\t:\\t %f s\"%(end_time - start_time) )\n"
   ]
  },
  {
   "cell_type": "raw",
   "metadata": {
    "papermill": {
     "duration": 0.059138,
     "end_time": "2021-04-01T05:29:27.182005",
     "exception": false,
     "start_time": "2021-04-01T05:29:27.122867",
     "status": "completed"
    },
    "tags": []
   },
   "source": [
    "From the test results above, we can draw these conclusions:   \n",
    "1. When batch size increases, the loading time will decrease.    \n",
    "2. When num_workers increases, the loading time will decrease.  \n",
    "3. Maybe for those with small memory or other poor devices, it should be set to False for better performance. However, the kaggle server is strong enough to handle this dataset. So there is no difference actually. I think if we use GPU to load a very big dataset, then set pin_memory true will be of great help."
   ]
  },
  {
   "cell_type": "markdown",
   "metadata": {
    "papermill": {
     "duration": 0.057838,
     "end_time": "2021-04-01T05:29:27.298316",
     "exception": false,
     "start_time": "2021-04-01T05:29:27.240478",
     "status": "completed"
    },
    "tags": []
   },
   "source": [
    "# 15. Calculate the mean and std of CIFAR-10’ training set within each RGB channel.  \n",
    "To calculate mean and std from the original data, I don't use dataloader \n",
    "in order to avoid transformation of raw data,  \n",
    "because dataloader uses tensor, which has been transformed from numpy.\n",
    "\n",
    "CIFAR-10 has 10000 images, each has 3072 pixels storing as 1*3072 array.\n",
    "$data[i][0:1024]$ is the red channel, \n",
    "$data[i][1024:2048]$ is the green channel, \n",
    "and $data[i][2048:3072]$ is the blue channel.\n",
    "\n",
    "And we use np functions to calculate mean and std."
   ]
  },
  {
   "cell_type": "code",
   "execution_count": 17,
   "metadata": {
    "execution": {
     "iopub.execute_input": "2021-04-01T05:29:27.426326Z",
     "iopub.status.busy": "2021-04-01T05:29:27.424748Z",
     "iopub.status.idle": "2021-04-01T05:29:29.678221Z",
     "shell.execute_reply": "2021-04-01T05:29:29.677697Z"
    },
    "papermill": {
     "duration": 2.320396,
     "end_time": "2021-04-01T05:29:29.678380",
     "exception": false,
     "start_time": "2021-04-01T05:29:27.357984",
     "status": "completed"
    },
    "tags": []
   },
   "outputs": [
    {
     "name": "stdout",
     "output_type": "stream",
     "text": [
      "Red-channel\n",
      "Mean:\t\t 125.306918046875\n",
      "Std:\t\t 62.993219278136884\n",
      "Green-channel\n",
      "Mean:\t\t 122.950394140625\n",
      "Std:\t\t 62.08870764001421\n",
      "Blue-channel\n",
      "Mean:\t\t 113.86538318359375\n",
      "Std:\t\t 66.70489964063091\n"
     ]
    }
   ],
   "source": [
    "# Still, use encoding of 'bytes' may solve this task more easily\n",
    "def unpickle(file):\n",
    "   with open(file, 'rb') as f:\n",
    "      dict = pickle.load(f, encoding = 'bytes')\n",
    "   return dict\n",
    "\n",
    "data = []\n",
    "\n",
    "for i in range(1,6):\n",
    "    tmp = unpickle(\"../input/cifar10-python/cifar-10-batches-py/data_batch_\"+str(i))\n",
    "    data.extend(tmp[b'data'].astype('int64'))\n",
    "    \n",
    "channels = {0:'Red-channel',1:'Green-channel',2:'Blue-channel'}\n",
    "data = np.array(data)\n",
    "\n",
    "for x in channels:\n",
    "    print(channels[x])\n",
    "    mean = data[:,x*1024:(x*1024+1024)].mean()\n",
    "    std = data[:,x*1024:(x*1024+1024)].std()\n",
    "    print(\"Mean:\\t\\t\", mean)\n",
    "    print(\"Std:\\t\\t\", std)\n",
    "    "
   ]
  },
  {
   "cell_type": "markdown",
   "metadata": {
    "papermill": {
     "duration": 0.061764,
     "end_time": "2021-04-01T05:29:29.801335",
     "exception": false,
     "start_time": "2021-04-01T05:29:29.739571",
     "status": "completed"
    },
    "tags": []
   },
   "source": [
    "# 16. Numpy exercises  \n",
    "• Consider a random 10x2 matrix representing cartesian coordinates, convert them to polar coordinates.  \n"
   ]
  },
  {
   "cell_type": "code",
   "execution_count": 18,
   "metadata": {
    "execution": {
     "iopub.execute_input": "2021-04-01T05:29:29.933448Z",
     "iopub.status.busy": "2021-04-01T05:29:29.932527Z",
     "iopub.status.idle": "2021-04-01T05:29:29.936597Z",
     "shell.execute_reply": "2021-04-01T05:29:29.935992Z"
    },
    "papermill": {
     "duration": 0.073385,
     "end_time": "2021-04-01T05:29:29.936755",
     "exception": false,
     "start_time": "2021-04-01T05:29:29.863370",
     "status": "completed"
    },
    "tags": []
   },
   "outputs": [
    {
     "name": "stdout",
     "output_type": "stream",
     "text": [
      "cartesion coordinates:\n",
      " [[ 2.25715246 -1.25929494]\n",
      " [ 4.1407307  -2.4359713 ]\n",
      " [ 3.41047086  1.84526719]\n",
      " [-3.69392034 -1.66880552]\n",
      " [-0.03374085  1.27336491]\n",
      " [ 0.28092673  2.65252686]\n",
      " [-4.52234277 -3.5963414 ]\n",
      " [ 4.97547736  2.39139649]\n",
      " [ 2.2814023   0.84432233]\n",
      " [ 2.22055462  0.1031187 ]]\n",
      "polar coordinates after converting:\n",
      " [[2.58467812 5.77428708]\n",
      " [4.80412395 5.75141686]\n",
      " [3.87766972 0.49595309]\n",
      " [4.05338863 3.56591824]\n",
      " [1.27381185 1.59728752]\n",
      " [2.66736172 1.46528057]\n",
      " [5.77799754 3.81342353]\n",
      " [5.52033986 0.44803723]\n",
      " [2.43262752 0.35445837]\n",
      " [2.22294766 0.04640493]]\n"
     ]
    }
   ],
   "source": [
    "cartesion = -5 + 10 * np.random.random((10,2))       \n",
    "polar = np.zeros_like(cartesion)            \n",
    "\n",
    "polar[:,0] = np.linalg.norm(cartesion,axis=1,ord=2) \n",
    "for i in range(cartesion.shape[0]):                     \n",
    "    polar[i,1] = math.atan2(cartesion[i,1],cartesion[i,0])\n",
    "    if polar[i,1]<0:                                    # make sure theta falls into [0,2*pi]\n",
    "        polar[i,1] += 2*math.pi\n",
    "print(\"cartesion coordinates:\\n\", cartesion)\n",
    "print(\"polar coordinates after converting:\\n\", polar)"
   ]
  },
  {
   "cell_type": "markdown",
   "metadata": {
    "papermill": {
     "duration": 0.059142,
     "end_time": "2021-04-01T05:29:30.054999",
     "exception": false,
     "start_time": "2021-04-01T05:29:29.995857",
     "status": "completed"
    },
    "tags": []
   },
   "source": [
    "• Create a 2D array subclass such that Z[i, j] == Z[j, i]. "
   ]
  },
  {
   "cell_type": "code",
   "execution_count": 19,
   "metadata": {
    "execution": {
     "iopub.execute_input": "2021-04-01T05:29:30.184858Z",
     "iopub.status.busy": "2021-04-01T05:29:30.183875Z",
     "iopub.status.idle": "2021-04-01T05:29:30.188108Z",
     "shell.execute_reply": "2021-04-01T05:29:30.187392Z"
    },
    "papermill": {
     "duration": 0.073605,
     "end_time": "2021-04-01T05:29:30.188252",
     "exception": false,
     "start_time": "2021-04-01T05:29:30.114647",
     "status": "completed"
    },
    "tags": []
   },
   "outputs": [
    {
     "name": "stdout",
     "output_type": "stream",
     "text": [
      "Generate a 5*5 matrix:\n",
      " [[0. 0. 0. 0. 0.]\n",
      " [0. 0. 0. 0. 0.]\n",
      " [0. 0. 0. 0. 0.]\n",
      " [0. 0. 0. 0. 0.]\n",
      " [0. 0. 0. 0. 0.]]\n",
      "The matrix after edition:\n",
      " [[ 0.  0.  0.  3.  0.]\n",
      " [ 0. -5.  0.  0.  0.]\n",
      " [ 0.  0.  0.  0.  0.]\n",
      " [ 3.  0.  0.  0.  0.]\n",
      " [ 0.  0.  0.  0.  0.]]\n"
     ]
    }
   ],
   "source": [
    "class sym_matrix(np.ndarray):         \n",
    "    def __new__(cls, shape): \n",
    "        array = super(sym_matrix, cls).__new__(cls, (shape,shape))\n",
    "        for i in range(shape):\n",
    "            for j in range(0,i+1):\n",
    "                array.__setitem__((j,i),array[0,0])   # set all the elements of Z at zero while generating Z\n",
    "        return  array \n",
    "    def __setitem__(self, key, value):\n",
    "        i, j = key\n",
    "        super(sym_matrix, self).__setitem__((i,j),value)\n",
    "        super(sym_matrix, self).__setitem__((j,i),value)\n",
    "\n",
    "Z = sym_matrix(5)             \n",
    "print(\"Generate a 5*5 matrix:\\n\",Z)   \n",
    "\n",
    "# edit the value in (1,1) and (0,3)\n",
    "Z[1,1] = -5\n",
    "Z[0,3] = 3\n",
    "print(\"The matrix after edition:\\n\",Z)  # we can see that both (0,3) and (3,0) change simultaneously \n",
    "        "
   ]
  },
  {
   "cell_type": "markdown",
   "metadata": {
    "papermill": {
     "duration": 0.059768,
     "end_time": "2021-04-01T05:29:30.307203",
     "exception": false,
     "start_time": "2021-04-01T05:29:30.247435",
     "status": "completed"
    },
    "tags": []
   },
   "source": [
    "• Consider 2 sets of points P0, P1 describing lines (2d) and a set of points P, how to compute distance\n",
    "from each point j (P[j]) to each line i (P0[i],P1[i])?  \n",
    "\n",
    "The line i (P0[i],P1[i]) can be represented as \n",
    "$ y = \\frac{P1[i][1]-P0[i][1]}{P1[i][0]-P0[i][0]}*(x-P0[i][0])+P0[i][1] $\n",
    "\n",
    "\n",
    "\n",
    "Hence, the distance from P[j] to line i is\n",
    "$ \\frac{|(P1[i][1]-P0[i][1])*P[j][0]+(P0[i][0]-P1[i][0])*P[j][1] +(P1[i][0]-P0[i][0])*P0[i][1]+(P0[i][1]-P1[i][1])*P0[i][0]|}{\\sqrt{(P1[i][1]-P0[i][1])^2+(P0[i][0]-P1[i][0])^2}} $"
   ]
  },
  {
   "cell_type": "code",
   "execution_count": 20,
   "metadata": {
    "execution": {
     "iopub.execute_input": "2021-04-01T05:29:30.440730Z",
     "iopub.status.busy": "2021-04-01T05:29:30.439667Z",
     "iopub.status.idle": "2021-04-01T05:29:30.449965Z",
     "shell.execute_reply": "2021-04-01T05:29:30.449248Z"
    },
    "papermill": {
     "duration": 0.082908,
     "end_time": "2021-04-01T05:29:30.450119",
     "exception": false,
     "start_time": "2021-04-01T05:29:30.367211",
     "status": "completed"
    },
    "tags": []
   },
   "outputs": [
    {
     "name": "stdout",
     "output_type": "stream",
     "text": [
      "Point [1, 1] to line [[1, 0], [0, 4]] :\t 0.24253562503633297\n",
      "Point [1, 1] to line [[5, 3], [2, 1]] :\t 0.5547001962252291\n",
      "Point [1, 1] to line [[-6, -2], [8, -4]] :\t 3.959797974644666\n",
      "Point [1, -3] to line [[1, 0], [0, 4]] :\t 0.7276068751089989\n",
      "Point [1, -3] to line [[5, 3], [2, 1]] :\t 2.773500981126146\n",
      "Point [1, -3] to line [[-6, -2], [8, -4]] :\t 0.0\n"
     ]
    }
   ],
   "source": [
    "# test some examples\n",
    "P0 = [[1,0],[5,3],[-6,-2]]\n",
    "P1 = [[0,4],[2,1],[8,-4]]\n",
    "\n",
    "P = [[1,1],[1,-3]]\n",
    "\n",
    "for j in range(len(P)):         \n",
    "    for i in range(len(P1)): \n",
    "        A = P1[i][1] - P0[i][1]\n",
    "        B = P0[i][0] - P1[i][0]\n",
    "        C = (P1[i][0] - P0[i][0]) * P0[i][1] + (P0[i][1] - P1[i][1]) * P0[i][0]\n",
    "        d = abs(A * P[j][0] + B * P[j][1] + C) / math.sqrt(A**2 + B**2)\n",
    "        print(\"Point\",P[j],\"to line\",[P0[i],P1[i]],\":\\t\",d)"
   ]
  },
  {
   "cell_type": "markdown",
   "metadata": {
    "papermill": {
     "duration": 0.059973,
     "end_time": "2021-04-01T05:29:30.571764",
     "exception": false,
     "start_time": "2021-04-01T05:29:30.511791",
     "status": "completed"
    },
    "tags": []
   },
   "source": [
    "# 17. Bilinear Interpolation  \n",
    "Please implement the bilinear interpolation algorithm using python. Check this for an introduction to bilinear\n",
    "interpolation."
   ]
  },
  {
   "cell_type": "code",
   "execution_count": 21,
   "metadata": {
    "execution": {
     "iopub.execute_input": "2021-04-01T05:29:30.704958Z",
     "iopub.status.busy": "2021-04-01T05:29:30.704075Z",
     "iopub.status.idle": "2021-04-01T05:29:30.709318Z",
     "shell.execute_reply": "2021-04-01T05:29:30.708564Z"
    },
    "papermill": {
     "duration": 0.076693,
     "end_time": "2021-04-01T05:29:30.709519",
     "exception": false,
     "start_time": "2021-04-01T05:29:30.632826",
     "status": "completed"
    },
    "tags": []
   },
   "outputs": [
    {
     "name": "stdout",
     "output_type": "stream",
     "text": [
      "110.0\n",
      "275.0\n"
     ]
    }
   ],
   "source": [
    "def BilinearInterpolation(A, pos):\n",
    "    x, y = pos[1]-1, pos[0]-1                           \n",
    "    right = left = max(int(x),0)                        \n",
    "    if left!=x:     right = min(int(x)+1,len(A[0])-1)  \n",
    "    down = up = max(int(y),0)                       \n",
    "    if up!=y:     down = min(int(y)+1,len(A)-1)     \n",
    "    return 0.25*(A[up][left]+A[down][left]+A[up][right]+A[down][right])\n",
    "\n",
    "A = ((110, 120, 130),\n",
    "    (210, 220, 230),\n",
    "    (310, 320, 330))\n",
    "print(BilinearInterpolation(A, (1, 1)))\n",
    "print(BilinearInterpolation(A, (2.5, 2.5)))"
   ]
  },
  {
   "cell_type": "markdown",
   "metadata": {
    "papermill": {
     "duration": 0.062325,
     "end_time": "2021-04-01T05:29:30.835608",
     "exception": false,
     "start_time": "2021-04-01T05:29:30.773283",
     "status": "completed"
    },
    "tags": []
   },
   "source": [
    "# 18. Cartesian product  \n",
    "Given an arbitrary number of vectors, build the cartesian product (every combinations of every item)."
   ]
  },
  {
   "cell_type": "markdown",
   "metadata": {
    "papermill": {
     "duration": 0.06408,
     "end_time": "2021-04-01T05:29:30.963040",
     "exception": false,
     "start_time": "2021-04-01T05:29:30.898960",
     "status": "completed"
    },
    "tags": []
   },
   "source": [
    "I use iteration to solve this problem."
   ]
  },
  {
   "cell_type": "code",
   "execution_count": 22,
   "metadata": {
    "execution": {
     "iopub.execute_input": "2021-04-01T05:29:31.098084Z",
     "iopub.status.busy": "2021-04-01T05:29:31.097135Z",
     "iopub.status.idle": "2021-04-01T05:29:31.100214Z",
     "shell.execute_reply": "2021-04-01T05:29:31.100720Z"
    },
    "papermill": {
     "duration": 0.075173,
     "end_time": "2021-04-01T05:29:31.100926",
     "exception": false,
     "start_time": "2021-04-01T05:29:31.025753",
     "status": "completed"
    },
    "tags": []
   },
   "outputs": [
    {
     "name": "stdout",
     "output_type": "stream",
     "text": [
      "[[1, 4, 6], [1, 4, 7], [1, 5, 6], [1, 5, 7], [2, 4, 6], [2, 4, 7], [2, 5, 6], [2, 5, 7], [3, 4, 6], [3, 4, 7], [3, 5, 6], [3, 5, 7]]\n"
     ]
    }
   ],
   "source": [
    "def cart_itr(array):\n",
    "  results = [[]]\n",
    "  for i in range(len(array)):\n",
    "    tmp = []\n",
    "    for res in results:\n",
    "      for ele in array[i]:\n",
    "        tmp.append(res+[ele])\n",
    "    results = tmp\n",
    "\n",
    "  return results\n",
    "\n",
    "test = [[1, 2, 3], [4, 5], [6, 7]]  \n",
    "res = cart_itr(test)\n",
    "print(res)"
   ]
  },
  {
   "cell_type": "markdown",
   "metadata": {
    "papermill": {
     "duration": 0.060442,
     "end_time": "2021-04-01T05:29:31.223322",
     "exception": false,
     "start_time": "2021-04-01T05:29:31.162880",
     "status": "completed"
    },
    "tags": []
   },
   "source": [
    "# 19. Extracting a subpart of an array  \n",
    "Consider an arbitrary array, write a function that extract a subpart with a fixed shape and centered on a\n",
    "given element (pad with a fill value when necessary)"
   ]
  },
  {
   "cell_type": "code",
   "execution_count": 23,
   "metadata": {
    "execution": {
     "iopub.execute_input": "2021-04-01T05:29:31.357877Z",
     "iopub.status.busy": "2021-04-01T05:29:31.357187Z",
     "iopub.status.idle": "2021-04-01T05:29:31.361804Z",
     "shell.execute_reply": "2021-04-01T05:29:31.361129Z"
    },
    "papermill": {
     "duration": 0.078472,
     "end_time": "2021-04-01T05:29:31.361971",
     "exception": false,
     "start_time": "2021-04-01T05:29:31.283499",
     "status": "completed"
    },
    "tags": []
   },
   "outputs": [
    {
     "name": "stdout",
     "output_type": "stream",
     "text": [
      "Z:\n",
      " [[3 1 1 2 1]\n",
      " [9 7 5 8 9]\n",
      " [5 6 3 9 6]\n",
      " [4 4 0 8 8]\n",
      " [7 3 8 3 1]]\n",
      "Out:\n",
      " [[0 0 0 0]\n",
      " [0 3 1 1]\n",
      " [0 9 7 5]\n",
      " [0 5 6 3]]\n"
     ]
    }
   ],
   "source": [
    "def sub(Z,shape,fill,position):\n",
    "    ret = []\n",
    "    for i in range(position[0]-shape[0]//2,position[0]+shape[0]-shape[0]//2):       \n",
    "        ret.append([])\n",
    "        for j in range(position[1]-shape[1]//2,position[1]+shape[1]-shape[1]//2):   \n",
    "            if i>=0 and j>=0 and i<Z.shape[0] and j<Z.shape[1]:  \n",
    "                value = Z[i,j]\n",
    "            else:\n",
    "                value = fill\n",
    "            ret[-1].append(value)\n",
    "    return np.array(ret)\n",
    "\n",
    "shape = (4, 4)\n",
    "fill = 0\n",
    "position = (1,1)\n",
    "Z = np.random.randint(0, 10, (5, 5))\n",
    "print(\"Z:\\n\", Z)\n",
    "print(\"Out:\\n\",sub(Z,shape,fill,position))"
   ]
  },
  {
   "cell_type": "markdown",
   "metadata": {
    "papermill": {
     "duration": 0.061399,
     "end_time": "2021-04-01T05:29:31.486197",
     "exception": false,
     "start_time": "2021-04-01T05:29:31.424798",
     "status": "completed"
    },
    "tags": []
   },
   "source": [
    "# 20. Matrix operations\n",
    "Please implement following matrix (just 2D) operations without numpy:"
   ]
  },
  {
   "cell_type": "markdown",
   "metadata": {
    "papermill": {
     "duration": 0.062189,
     "end_time": "2021-04-01T05:29:31.609778",
     "exception": false,
     "start_time": "2021-04-01T05:29:31.547589",
     "status": "completed"
    },
    "tags": []
   },
   "source": [
    "• add"
   ]
  },
  {
   "cell_type": "code",
   "execution_count": 24,
   "metadata": {
    "execution": {
     "iopub.execute_input": "2021-04-01T05:29:31.751804Z",
     "iopub.status.busy": "2021-04-01T05:29:31.750639Z",
     "iopub.status.idle": "2021-04-01T05:29:31.754757Z",
     "shell.execute_reply": "2021-04-01T05:29:31.753887Z"
    },
    "papermill": {
     "duration": 0.083879,
     "end_time": "2021-04-01T05:29:31.754970",
     "exception": false,
     "start_time": "2021-04-01T05:29:31.671091",
     "status": "completed"
    },
    "tags": []
   },
   "outputs": [],
   "source": [
    "def add(A, B):\n",
    "    if len(A)!=len(B) or len(A[0])!=len(B[0]):\n",
    "        return \"Invalid input!\"\n",
    "    ret = []\n",
    "    for i in range(len(A)):\n",
    "        ret.append([])\n",
    "        for j in range(len(A[0])):\n",
    "            ret[i].append(A[i][j]+B[i][j])\n",
    "    return ret"
   ]
  },
  {
   "cell_type": "markdown",
   "metadata": {
    "papermill": {
     "duration": 0.06633,
     "end_time": "2021-04-01T05:29:31.900567",
     "exception": false,
     "start_time": "2021-04-01T05:29:31.834237",
     "status": "completed"
    },
    "tags": []
   },
   "source": [
    "• subtract"
   ]
  },
  {
   "cell_type": "code",
   "execution_count": 25,
   "metadata": {
    "execution": {
     "iopub.execute_input": "2021-04-01T05:29:32.032700Z",
     "iopub.status.busy": "2021-04-01T05:29:32.031850Z",
     "iopub.status.idle": "2021-04-01T05:29:32.035941Z",
     "shell.execute_reply": "2021-04-01T05:29:32.035179Z"
    },
    "papermill": {
     "duration": 0.073554,
     "end_time": "2021-04-01T05:29:32.036094",
     "exception": false,
     "start_time": "2021-04-01T05:29:31.962540",
     "status": "completed"
    },
    "tags": []
   },
   "outputs": [],
   "source": [
    "def subtract(A, B):\n",
    "    if len(A)!=len(B) or len(A[0])!=len(B[0]):\n",
    "        return \"Invalid input!\"\n",
    "    ret = []\n",
    "    for i in range(len(A)):\n",
    "        ret.append([])\n",
    "        for j in range(len(A[0])):\n",
    "            ret[i].append(A[i][j]-B[i][j])\n",
    "    return ret"
   ]
  },
  {
   "cell_type": "markdown",
   "metadata": {
    "papermill": {
     "duration": 0.062503,
     "end_time": "2021-04-01T05:29:32.159816",
     "exception": false,
     "start_time": "2021-04-01T05:29:32.097313",
     "status": "completed"
    },
    "tags": []
   },
   "source": [
    "• scalar multiply"
   ]
  },
  {
   "cell_type": "code",
   "execution_count": 26,
   "metadata": {
    "execution": {
     "iopub.execute_input": "2021-04-01T05:29:32.293659Z",
     "iopub.status.busy": "2021-04-01T05:29:32.292696Z",
     "iopub.status.idle": "2021-04-01T05:29:32.296489Z",
     "shell.execute_reply": "2021-04-01T05:29:32.295876Z"
    },
    "papermill": {
     "duration": 0.073975,
     "end_time": "2021-04-01T05:29:32.296646",
     "exception": false,
     "start_time": "2021-04-01T05:29:32.222671",
     "status": "completed"
    },
    "tags": []
   },
   "outputs": [],
   "source": [
    "def scalar_multiply(A, x):\n",
    "    ret = []\n",
    "    for i in range(len(A)):\n",
    "        ret.append([])\n",
    "        for j in range(len(A[0])):\n",
    "            ret[i].append(x*A[i][j])\n",
    "    return ret"
   ]
  },
  {
   "cell_type": "markdown",
   "metadata": {
    "papermill": {
     "duration": 0.063145,
     "end_time": "2021-04-01T05:29:32.421995",
     "exception": false,
     "start_time": "2021-04-01T05:29:32.358850",
     "status": "completed"
    },
    "tags": []
   },
   "source": [
    "• multiply"
   ]
  },
  {
   "cell_type": "code",
   "execution_count": 27,
   "metadata": {
    "execution": {
     "iopub.execute_input": "2021-04-01T05:29:32.554681Z",
     "iopub.status.busy": "2021-04-01T05:29:32.554003Z",
     "iopub.status.idle": "2021-04-01T05:29:32.556901Z",
     "shell.execute_reply": "2021-04-01T05:29:32.557430Z"
    },
    "papermill": {
     "duration": 0.072917,
     "end_time": "2021-04-01T05:29:32.557601",
     "exception": false,
     "start_time": "2021-04-01T05:29:32.484684",
     "status": "completed"
    },
    "tags": []
   },
   "outputs": [],
   "source": [
    "def multiply(A, B):\n",
    "    if len(A[0])!=len(B):\n",
    "        return \"Invalid input!\"\n",
    "    ret = []\n",
    "    for i in range(len(A)):\n",
    "        ret.append([])\n",
    "        for j in range(len(B[0])):\n",
    "            tmp = 0\n",
    "            for k in range(len(B)):\n",
    "                tmp += A[i][k]*B[k][j]\n",
    "            ret[i].append(tmp)\n",
    "    return ret"
   ]
  },
  {
   "cell_type": "markdown",
   "metadata": {
    "papermill": {
     "duration": 0.063346,
     "end_time": "2021-04-01T05:29:32.685096",
     "exception": false,
     "start_time": "2021-04-01T05:29:32.621750",
     "status": "completed"
    },
    "tags": []
   },
   "source": [
    "• identity"
   ]
  },
  {
   "cell_type": "code",
   "execution_count": 28,
   "metadata": {
    "execution": {
     "iopub.execute_input": "2021-04-01T05:29:32.814538Z",
     "iopub.status.busy": "2021-04-01T05:29:32.813917Z",
     "iopub.status.idle": "2021-04-01T05:29:32.815936Z",
     "shell.execute_reply": "2021-04-01T05:29:32.816483Z"
    },
    "papermill": {
     "duration": 0.069984,
     "end_time": "2021-04-01T05:29:32.816666",
     "exception": false,
     "start_time": "2021-04-01T05:29:32.746682",
     "status": "completed"
    },
    "tags": []
   },
   "outputs": [],
   "source": [
    "def identity(size):\n",
    "    ret = []\n",
    "    for i in range(size):\n",
    "        ret.append([])\n",
    "        for j in range(size):\n",
    "            if i==j:\n",
    "                ret[i].append(1)\n",
    "            else:\n",
    "                ret[i].append(0)\n",
    "    return ret"
   ]
  },
  {
   "cell_type": "markdown",
   "metadata": {
    "papermill": {
     "duration": 0.062143,
     "end_time": "2021-04-01T05:29:32.941492",
     "exception": false,
     "start_time": "2021-04-01T05:29:32.879349",
     "status": "completed"
    },
    "tags": []
   },
   "source": [
    "• transpose"
   ]
  },
  {
   "cell_type": "code",
   "execution_count": 29,
   "metadata": {
    "execution": {
     "iopub.execute_input": "2021-04-01T05:29:33.069951Z",
     "iopub.status.busy": "2021-04-01T05:29:33.069311Z",
     "iopub.status.idle": "2021-04-01T05:29:33.075368Z",
     "shell.execute_reply": "2021-04-01T05:29:33.074713Z"
    },
    "papermill": {
     "duration": 0.071027,
     "end_time": "2021-04-01T05:29:33.075513",
     "exception": false,
     "start_time": "2021-04-01T05:29:33.004486",
     "status": "completed"
    },
    "tags": []
   },
   "outputs": [],
   "source": [
    "def transpose(A):\n",
    "    ret = []\n",
    "    for i in range(len(A[0])):\n",
    "        ret.append([])\n",
    "        for j in range(len(A)):\n",
    "            ret[i].append(A[j][i])\n",
    "    return ret"
   ]
  },
  {
   "cell_type": "markdown",
   "metadata": {
    "papermill": {
     "duration": 0.062812,
     "end_time": "2021-04-01T05:29:33.201978",
     "exception": false,
     "start_time": "2021-04-01T05:29:33.139166",
     "status": "completed"
    },
    "tags": []
   },
   "source": [
    "• inverse\n",
    "\n",
    "First, matrix A should be square.  \n",
    "Second, $det(A) \\neq 0$.\n",
    "\n",
    "We have $A^{-1}=\\frac{adj(A)}{det(A)}$"
   ]
  },
  {
   "cell_type": "code",
   "execution_count": 30,
   "metadata": {
    "execution": {
     "iopub.execute_input": "2021-04-01T05:29:33.338647Z",
     "iopub.status.busy": "2021-04-01T05:29:33.337981Z",
     "iopub.status.idle": "2021-04-01T05:29:33.341267Z",
     "shell.execute_reply": "2021-04-01T05:29:33.340678Z"
    },
    "papermill": {
     "duration": 0.076699,
     "end_time": "2021-04-01T05:29:33.341409",
     "exception": false,
     "start_time": "2021-04-01T05:29:33.264710",
     "status": "completed"
    },
    "tags": []
   },
   "outputs": [],
   "source": [
    "def minor(A,m,n):\n",
    "    ret = []\n",
    "    for i in range(len(A)):\n",
    "        if i!=m:\n",
    "            ret.append(A[i][0:n]+A[i][n+1::])\n",
    "    return ret\n",
    "\n",
    "def det(A):\n",
    "    if len(A)==1:\n",
    "        return A[0][0]\n",
    "    ret = 0\n",
    "    for i in range(len(A)):\n",
    "        ret += ((-1)**i)*A[i][0]*det(minor(A,i,0))\n",
    "    return ret\n",
    "\n",
    "def adjoint_matrix(A):\n",
    "    ret = []\n",
    "    for i in range(len(A)):\n",
    "        ret.append([])\n",
    "        for j in range(len(A)):\n",
    "            ret[i].append( ((-1)**(i+j))*det(minor(A,j,i)) )\n",
    "    return ret\n",
    "\n",
    "def inverse(A):\n",
    "    if len(A)!=len(A[0]):\n",
    "        return \"Matrix not square!\"\n",
    "    if det(A)==0:\n",
    "        return \"Matrix singular!\"\n",
    "    if len(A)==1:\n",
    "        return [[1/A[0][0]]]\n",
    "    return scalar_multiply(adjoint_matrix(A),1/det(A))"
   ]
  },
  {
   "cell_type": "markdown",
   "metadata": {
    "papermill": {
     "duration": 0.061564,
     "end_time": "2021-04-01T05:29:33.466388",
     "exception": false,
     "start_time": "2021-04-01T05:29:33.404824",
     "status": "completed"
    },
    "tags": []
   },
   "source": [
    "Now, test all the functions above."
   ]
  },
  {
   "cell_type": "code",
   "execution_count": 31,
   "metadata": {
    "execution": {
     "iopub.execute_input": "2021-04-01T05:29:33.600378Z",
     "iopub.status.busy": "2021-04-01T05:29:33.599533Z",
     "iopub.status.idle": "2021-04-01T05:29:33.603307Z",
     "shell.execute_reply": "2021-04-01T05:29:33.604008Z"
    },
    "papermill": {
     "duration": 0.076303,
     "end_time": "2021-04-01T05:29:33.604242",
     "exception": false,
     "start_time": "2021-04-01T05:29:33.527939",
     "status": "completed"
    },
    "tags": []
   },
   "outputs": [
    {
     "name": "stdout",
     "output_type": "stream",
     "text": [
      "add(matrix_a, matrix_b)== [[15, 14], [10, 13]]\n",
      "subtract(matrix_a, matrix_b)== [[9, 6], [-4, 5]]\n",
      "scalar_multiply(matrix_b, 3)== [[9, 12], [21, 12]]\n",
      "multiply(matrix_a, matrix_b)== [[106, 88], [72, 48]]\n",
      "identity(3)== [[1, 0, 0], [0, 1, 0], [0, 0, 1]]\n",
      "transpose(matrix_c)== [[11, 21, 31, 41], [12, 22, 32, 42], [13, 23, 33, 43], [14, 24, 34, 44]]\n",
      "inverse(matrix_d)== [[0.2, 0.2, 0.0], [-0.2, 0.30000000000000004, 1.0], [0.2, -0.30000000000000004, 0.0]]\n"
     ]
    }
   ],
   "source": [
    "matrix_a = [[12, 10], [3, 9]]\n",
    "matrix_b = [[3, 4], [7, 4]]\n",
    "matrix_c = [[11, 12, 13, 14], [21, 22, 23, 24], [31, 32, 33, 34], [41, 42, 43, 44]]\n",
    "matrix_d = [[3, 0, 2], [2, 0, -2], [0, 1, 1]]\n",
    "\n",
    "print(\"add(matrix_a, matrix_b)==\",add(matrix_a, matrix_b))\n",
    "print(\"subtract(matrix_a, matrix_b)==\",subtract(matrix_a, matrix_b))\n",
    "print(\"scalar_multiply(matrix_b, 3)==\",scalar_multiply(matrix_b, 3))\n",
    "print(\"multiply(matrix_a, matrix_b)==\",multiply(matrix_a, matrix_b))\n",
    "print(\"identity(3)==\",identity(3))\n",
    "print(\"transpose(matrix_c)==\",transpose(matrix_c))\n",
    "print(\"inverse(matrix_d)==\",inverse(matrix_d))\n"
   ]
  },
  {
   "cell_type": "markdown",
   "metadata": {
    "papermill": {
     "duration": 0.06278,
     "end_time": "2021-04-01T05:29:33.731538",
     "exception": false,
     "start_time": "2021-04-01T05:29:33.668758",
     "status": "completed"
    },
    "tags": []
   },
   "source": [
    "# 21. Greatest common divisor  \n",
    "Find the greatest common divisor(gcd) of two integers."
   ]
  },
  {
   "cell_type": "code",
   "execution_count": 32,
   "metadata": {
    "execution": {
     "iopub.execute_input": "2021-04-01T05:29:33.865562Z",
     "iopub.status.busy": "2021-04-01T05:29:33.864754Z",
     "iopub.status.idle": "2021-04-01T05:29:33.870010Z",
     "shell.execute_reply": "2021-04-01T05:29:33.869352Z"
    },
    "papermill": {
     "duration": 0.074816,
     "end_time": "2021-04-01T05:29:33.870167",
     "exception": false,
     "start_time": "2021-04-01T05:29:33.795351",
     "status": "completed"
    },
    "tags": []
   },
   "outputs": [
    {
     "name": "stdout",
     "output_type": "stream",
     "text": [
      "GCD(3,5) =  1\n",
      "GCD(6,3) =  3\n",
      "GCD(-2,6)=  2\n",
      "GCD(0,3) =  3\n"
     ]
    }
   ],
   "source": [
    "def GCD(a,b):\n",
    "    a, b = abs(a), abs(b)   \n",
    "    a, b = max(a,b), min(a,b)   \n",
    "    if b==0:                    \n",
    "        return a\n",
    "    if a%b==0:\n",
    "        return b\n",
    "    return GCD(a-b,b)\n",
    "\n",
    "print(\"GCD(3,5) = \",GCD(3,5))\n",
    "print(\"GCD(6,3) = \",GCD(6,3))\n",
    "print(\"GCD(-2,6)= \",GCD(-2,6))\n",
    "print(\"GCD(0,3) = \",GCD(0,3))"
   ]
  },
  {
   "cell_type": "markdown",
   "metadata": {
    "papermill": {
     "duration": 0.06375,
     "end_time": "2021-04-01T05:29:33.997149",
     "exception": false,
     "start_time": "2021-04-01T05:29:33.933399",
     "status": "completed"
    },
    "tags": []
   },
   "source": [
    "# 22.Find all consecutive positive number sequences whose sum is N.  \n",
    "\n",
    "Notice that be careful not to miss the solution N itself.\n"
   ]
  },
  {
   "cell_type": "code",
   "execution_count": 33,
   "metadata": {
    "execution": {
     "iopub.execute_input": "2021-04-01T05:29:34.134475Z",
     "iopub.status.busy": "2021-04-01T05:29:34.133567Z",
     "iopub.status.idle": "2021-04-01T05:29:34.137965Z",
     "shell.execute_reply": "2021-04-01T05:29:34.137050Z"
    },
    "papermill": {
     "duration": 0.077063,
     "end_time": "2021-04-01T05:29:34.138155",
     "exception": false,
     "start_time": "2021-04-01T05:29:34.061092",
     "status": "completed"
    },
    "tags": []
   },
   "outputs": [
    {
     "name": "stdout",
     "output_type": "stream",
     "text": [
      "[[28, 29, 30, 31, 32, 33, 34, 35, 36, 37, 38, 39, 40, 41, 42, 43, 44, 45, 46, 47, 48, 49, 50, 51, 52], [55, 56, 57, 58, 59, 60, 61, 62, 63, 64, 65, 66, 67, 68, 69, 70], [198, 199, 200, 201, 202], [1000]]\n"
     ]
    }
   ],
   "source": [
    "def seq(N):\n",
    "    ret = []\n",
    "    for i in range(N+1):\n",
    "        sum = 0\n",
    "        for j in range(i,N+1):\n",
    "            sum += j\n",
    "            if sum == N:\n",
    "                ret.append([x for x in range(i,j+1)])\n",
    "            if sum > N:\n",
    "                break\n",
    "    return ret\n",
    "\n",
    "ret = seq(1000)\n",
    "print(ret)\n",
    "\n"
   ]
  },
  {
   "cell_type": "markdown",
   "metadata": {
    "papermill": {
     "duration": 0.06451,
     "end_time": "2021-04-01T05:29:34.272502",
     "exception": false,
     "start_time": "2021-04-01T05:29:34.207992",
     "status": "completed"
    },
    "tags": []
   },
   "source": [
    "# 23. Password checking  \n",
    "A website requires the users to input username and password to register. Write a programto check the validity\n",
    "of password input by users. Following are the criteria for checking the password:\n",
    "(略)\n",
    "\n",
    "利用正则表达式即可(不会写英文)。"
   ]
  },
  {
   "cell_type": "code",
   "execution_count": 34,
   "metadata": {
    "execution": {
     "iopub.execute_input": "2021-04-01T05:29:34.409486Z",
     "iopub.status.busy": "2021-04-01T05:29:34.408683Z",
     "iopub.status.idle": "2021-04-01T05:29:34.412159Z",
     "shell.execute_reply": "2021-04-01T05:29:34.412677Z"
    },
    "papermill": {
     "duration": 0.076934,
     "end_time": "2021-04-01T05:29:34.412847",
     "exception": false,
     "start_time": "2021-04-01T05:29:34.335913",
     "status": "completed"
    },
    "tags": []
   },
   "outputs": [
    {
     "name": "stdout",
     "output_type": "stream",
     "text": [
      "ABd1234@1\n"
     ]
    }
   ],
   "source": [
    "def pw_check(str):\n",
    "    lower_case = re.search(\"[a-z]\",str)\n",
    "    upper_case = re.search(\"[A-Z]\",str)\n",
    "    number = re.search(\"[0-9]\",str)\n",
    "    special = re.search(\"[$#@]\",str)\n",
    "    if len(str) in range(6,13) and lower_case and upper_case and number and special:\n",
    "        return True\n",
    "    else: \n",
    "        return False\n",
    "\n",
    "passwords = [\"ABd1234@1\",\"a F1#\",\"2w3E*\",\"2We3345\"]\n",
    "for pw in passwords:\n",
    "    if(pw_check(pw)):\n",
    "        print(pw)"
   ]
  }
 ],
 "metadata": {
  "kernelspec": {
   "display_name": "Python 3",
   "language": "python",
   "name": "python3"
  },
  "language_info": {
   "codemirror_mode": {
    "name": "ipython",
    "version": 3
   },
   "file_extension": ".py",
   "mimetype": "text/x-python",
   "name": "python",
   "nbconvert_exporter": "python",
   "pygments_lexer": "ipython3",
   "version": "3.7.9"
  },
  "papermill": {
   "default_parameters": {},
   "duration": 35.762335,
   "end_time": "2021-04-01T05:29:35.190602",
   "environment_variables": {},
   "exception": null,
   "input_path": "__notebook__.ipynb",
   "output_path": "__notebook__.ipynb",
   "parameters": {},
   "start_time": "2021-04-01T05:28:59.428267",
   "version": "2.2.2"
  }
 },
 "nbformat": 4,
 "nbformat_minor": 4
}